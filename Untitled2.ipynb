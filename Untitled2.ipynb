{
  "nbformat": 4,
  "nbformat_minor": 0,
  "metadata": {
    "colab": {
      "provenance": []
    },
    "kernelspec": {
      "name": "python3",
      "display_name": "Python 3"
    },
    "language_info": {
      "name": "python"
    }
  },
  "cells": [
    {
      "cell_type": "markdown",
      "source": [
        "**1. Рассчитать значение f при заданном значении вещественного числа x**"
      ],
      "metadata": {
        "id": "IX-tl5QX24V5"
      }
    },
    {
      "cell_type": "code",
      "execution_count": null,
      "metadata": {
        "colab": {
          "base_uri": "https://localhost:8080/"
        },
        "id": "EXxPsvf122l9",
        "outputId": "05f78313-542b-4922-c21e-1ee16fec8d38"
      },
      "outputs": [
        {
          "output_type": "stream",
          "name": "stdout",
          "text": [
            "-10\n",
            "-0.1\n"
          ]
        }
      ],
      "source": [
        "# Выполнил: Воробьева Екатерина Романовна\n",
        "# Группа: АБП - 231\n",
        "# E-mail: kw849667@gmail.com\n",
        "\n",
        "x = float(input())\n",
        "if x >= 0:\n",
        "    f = x**0.5 + x **2\n",
        "else:\n",
        "    f = 1 / x\n",
        "\n",
        "print(round(f,2))"
      ]
    },
    {
      "cell_type": "markdown",
      "source": [
        "**2. Определите максимальное и минимальное значения из двух различных целых\n",
        "чисел**"
      ],
      "metadata": {
        "id": "rZ7h2Caw4mPa"
      }
    },
    {
      "cell_type": "code",
      "source": [
        "# Выполнил: Воробьева Екатерина Романовна\n",
        "# Группа: АБП - 231\n",
        "# E-mail: kw849667@gmail.com\n",
        "\n",
        "\n",
        "a1 = int(input(\"Введите первое число: \"))\n",
        "a2 = int(input(\"Введите первое число: \"))\n",
        "\n",
        "# Переменная 'a_min' должна содержать минимум, 'a_max' - максимум\n",
        "if a1 > a2:\n",
        "  a_min = a2\n",
        "  a_max = a1\n",
        "else:\n",
        "  a_min = a1\n",
        "  a_max = a2\n",
        "print(f\"Минимальное значение: {a_min}, максимальное значение: {a_max}\")\n"
      ],
      "metadata": {
        "colab": {
          "base_uri": "https://localhost:8080/"
        },
        "id": "KVrPABVS4tkV",
        "outputId": "43561c10-4400-4fee-b43b-52a7e20de58c"
      },
      "execution_count": 1,
      "outputs": [
        {
          "output_type": "stream",
          "name": "stdout",
          "text": [
            "Введите первое число: 4\n",
            "Введите первое число: 7\n",
            "Минимальное значение: 4, максимальное значение: 7\n"
          ]
        }
      ]
    },
    {
      "cell_type": "markdown",
      "source": [
        "**3. Вася пытается высунуть голову в форточку размерами a и b см. Приняв условно,\n",
        "что его голова - круглая диаметром d см, определите, сможет ли Вася сделать это.\n",
        "Для прохождения головы в форточку необходим зазор в 1 см. с каждой стороны.\n",
        "Все величины - целые числа**"
      ],
      "metadata": {
        "id": "iUP33W0w-T1G"
      }
    },
    {
      "cell_type": "code",
      "source": [
        "# Выполнил: Воробьева Екатерина Романовна\n",
        "# Группа: АБП - 231\n",
        "# E-mail: kw849667@gmail.com\n",
        "\n",
        "a = int(input(\"Ширина форточки: \"))\n",
        "b = int(input(\"Высота форточки: \"))\n",
        "d = int(input(\"Диаметр головы: \"))\n",
        "\n",
        "# Введенные числа должны быть положительными, если так - осуществляем\n",
        "# расчет, иначе выводим \"Проверьте ввод\"\n",
        "\n",
        "if a < 0 or b < 0 or d < 0:\n",
        "  print (\"Проверьте ввод\")\n",
        "\n",
        "if d + 2 <= a and d + 2 <= b:\n",
        "  print (\"Да\")\n",
        "else:\n",
        "  print (\"Нет\")"
      ],
      "metadata": {
        "colab": {
          "base_uri": "https://localhost:8080/"
        },
        "id": "KyI45AOu-ZqB",
        "outputId": "46dddcdd-6013-4ea5-dc84-15e9c70116fb"
      },
      "execution_count": null,
      "outputs": [
        {
          "output_type": "stream",
          "name": "stdout",
          "text": [
            "Ширина форточки: 5\n",
            "Высота форточки: 5\n",
            "Диаметр головы: 4\n",
            "Нет\n"
          ]
        }
      ]
    },
    {
      "cell_type": "markdown",
      "source": [
        "**4. Известны год и номер месяца сегодняшнего дня, а также год и номер месяца\n",
        "рождения человека (нумерация месяцев с 1: январь - 1 и т.д.). Определите возраст\n",
        "человека (число полных лет).**"
      ],
      "metadata": {
        "id": "_nQ-ulplEOAK"
      }
    },
    {
      "cell_type": "code",
      "source": [
        "# Выполнил: Воробьева Екатерина Романовна\n",
        "# Группа: АБП - 231\n",
        "# E-mail: kw849667@gmail.com\n",
        "\n",
        "year_today = int(input(\"Введите текущий год: \"))\n",
        "month_today = int(input(\"Введите текущий месяц: \"))\n",
        "\n",
        "year = int(input(\"Введите год рождения: \"))\n",
        "month = int(input(\"Введите месяц рождения: \"))\n",
        "\n",
        "# Результат необходимо записать в переменную 'age'\n",
        "\n",
        "if month_today >= month:\n",
        "  age = year_today - year\n",
        "else:\n",
        "  age = year_today - year - 1\n",
        "print(\"Число полных лет: \", age)"
      ],
      "metadata": {
        "colab": {
          "base_uri": "https://localhost:8080/"
        },
        "id": "KkfRnyM2EOLA",
        "outputId": "b90353c7-b8d6-4064-dd98-b4d332dbecf3"
      },
      "execution_count": null,
      "outputs": [
        {
          "output_type": "stream",
          "name": "stdout",
          "text": [
            "Введите текущий год: 2010\n",
            "Введите текущий месяц: 5\n",
            "Введите год рождения: 2000\n",
            "Введите месяц рождения: 5\n",
            "Число полных лет:  10\n"
          ]
        }
      ]
    },
    {
      "cell_type": "markdown",
      "source": [
        "**5. Дана точка с целыми ненулевыми координатами (x;y). Определить номер четверти\n",
        "координатной плоскости, которой она принадлежит.**"
      ],
      "metadata": {
        "id": "XRWnD3RRHpJM"
      }
    },
    {
      "cell_type": "code",
      "source": [
        "# Выполнил: Воробьева Екатерина Романовна\n",
        "# Группа: АБП - 231\n",
        "# E-mail: kw849667@gmail.com\n",
        "\n",
        "x = int(input(\"Введите координату x: \"))\n",
        "y = int(input(\"Введите координату y: \"))\n",
        "\n",
        "if x > 0 and y > 0:\n",
        "  print(\"1-я четверть\")\n",
        "elif x < 0 and y > 0:\n",
        "  print(\"2-я четверть\")\n",
        "elif x < 0 and y < 0:\n",
        "  print(\"3-я четверть\")\n",
        "else:\n",
        "  print(\"4-я четверть\")\n",
        "\n"
      ],
      "metadata": {
        "colab": {
          "base_uri": "https://localhost:8080/"
        },
        "id": "oYjGD3GvHpTS",
        "outputId": "352053c2-d23d-4bec-a714-01fbecafc43c"
      },
      "execution_count": null,
      "outputs": [
        {
          "output_type": "stream",
          "name": "stdout",
          "text": [
            "Введите координату x: -3\n",
            "Введите координату y: -3\n",
            "3-я четверть\n"
          ]
        }
      ]
    },
    {
      "cell_type": "markdown",
      "source": [
        "**6. Даны вещественные числа a, b, c (a≠0). Решите уравнение ax^2+bx+c=0. При выводе значений оставьте 1 знак после запятой**"
      ],
      "metadata": {
        "id": "4-GPwNsSKUS5"
      }
    },
    {
      "cell_type": "code",
      "source": [
        "# Выполнил: Воробьева Екатерина Романовна\n",
        "# Группа: АБП - 231\n",
        "# E-mail: kw849667@gmail.com\n",
        "\n",
        "a = float(input(\"Введите a: \"))\n",
        "b = float(input(\"Введите b: \"))\n",
        "c = float(input(\"Введите c: \"))\n",
        "d = b**2 - (4 * a * c)\n",
        "if d < 0:\n",
        "  print(\"Нет корней\")\n",
        "elif d == 0:\n",
        "  x = - b / 2 * a\n",
        "  print(round(x, 1))\n",
        "else:\n",
        "  x_1 = (- b - d**0.5) /(2 * a)\n",
        "  x_2 = (- b + d**0.5) /(2 * a)\n",
        "\n",
        "  print(round(x_1, 1))\n",
        "  print(round(x_2, 1))\n",
        "\n"
      ],
      "metadata": {
        "id": "Ib5njAl2KUeJ",
        "colab": {
          "base_uri": "https://localhost:8080/"
        },
        "outputId": "4670df50-2836-4453-c04a-944e7789af17"
      },
      "execution_count": null,
      "outputs": [
        {
          "output_type": "stream",
          "name": "stdout",
          "text": [
            "Введите a: 1\n",
            "Введите b: 3\n",
            "Введите c: -4\n",
            "-4.0\n",
            "1.0\n"
          ]
        }
      ]
    },
    {
      "cell_type": "markdown",
      "source": [
        "**7.Дана непустая последовательность целых чисел, оканчивающаяся нулем. Найти\n",
        "сумму и количество введенных чисел.**"
      ],
      "metadata": {
        "id": "6_UKOfMDNWls"
      }
    },
    {
      "cell_type": "code",
      "source": [
        "# Выполнил: Воробьева Екатерина Романовна\n",
        "# Группа: АБП - 231\n",
        "# E-mail: kw849667@gmail.com\n",
        "\n",
        "nums_sum = 0  # сумма\n",
        "nums_count = 0  # количество\n",
        "\n",
        "x = int(input(\"Введите последовательность: \"))\n",
        "while x != 0:\n",
        "  nums_sum += x % 10\n",
        "  nums_count += 1\n",
        "  x = x // 10\n",
        "\n",
        "print(f\"Сумма: {nums_sum}, количество: {nums_count}\")"
      ],
      "metadata": {
        "colab": {
          "base_uri": "https://localhost:8080/"
        },
        "id": "rwgR47KoNWyY",
        "outputId": "b129b742-bf1a-4f84-c2e2-866b8d1a68f9"
      },
      "execution_count": 2,
      "outputs": [
        {
          "output_type": "stream",
          "name": "stdout",
          "text": [
            "Введите последовательность: 12340\n",
            "Сумма: 10, количество: 5\n"
          ]
        }
      ]
    },
    {
      "cell_type": "markdown",
      "source": [
        "**8. Дано число n. Из чисел 0,5,10,15,20,25,... напечатать те, которые не превышают n.**"
      ],
      "metadata": {
        "id": "eSSv7k3oXx0e"
      }
    },
    {
      "cell_type": "code",
      "source": [
        "# Выполнил: Воробьева Екатерина Романовна\n",
        "# Группа: АБП - 231\n",
        "# E-mail: kw849667@gmail.com\n",
        "\n",
        "n = int(input(\"Введите число: \"))\n",
        "for i in range(0, n+1, 5):\n",
        "  print(i)\n"
      ],
      "metadata": {
        "colab": {
          "base_uri": "https://localhost:8080/"
        },
        "id": "NfVUfX5nXyAG",
        "outputId": "5fceb8b8-9062-4ca6-9461-414dcdd8038b"
      },
      "execution_count": 3,
      "outputs": [
        {
          "output_type": "stream",
          "name": "stdout",
          "text": [
            "Введите число: 23\n",
            "0\n",
            "5\n",
            "10\n",
            "15\n",
            "20\n"
          ]
        }
      ]
    },
    {
      "cell_type": "markdown",
      "source": [
        "**9. Дано вещественное число a. Найдите наименьшее натуральное n, для которого\n",
        "верно выражение.**"
      ],
      "metadata": {
        "id": "QOyWkgm5A4vj"
      }
    },
    {
      "cell_type": "code",
      "source": [
        "# Выполнил: Воробьева Екатерина Романовна\n",
        "# Группа: АБП - 231\n",
        "# E-mail: kw849667@gmail.com\n",
        "\n",
        "a = float(input(\"a = \"))\n",
        "n = 0\n",
        "while a >= 0:\n",
        "  n += 1\n",
        "  a = a - (1/n)\n",
        "print (f\"n = {n}\")"
      ],
      "metadata": {
        "colab": {
          "base_uri": "https://localhost:8080/"
        },
        "id": "Xhts_QUYAgQG",
        "outputId": "8772dce1-7db0-42b4-bc5f-81be1ed6a2c4"
      },
      "execution_count": 5,
      "outputs": [
        {
          "output_type": "stream",
          "name": "stdout",
          "text": [
            "a = 2\n",
            "n = 4\n"
          ]
        }
      ]
    },
    {
      "cell_type": "markdown",
      "source": [
        "**10. Дано натуральное число. Определите сумму и количество его цифр**"
      ],
      "metadata": {
        "id": "5EElhKq-TL7e"
      }
    },
    {
      "cell_type": "code",
      "source": [
        "# Выполнил: Воробьева Екатерина Романовна\n",
        "# Группа: АБП - 231\n",
        "# E-mail: kw849667@gmail.com\n",
        "\n",
        "n = int(input(\"Введите значение: \"))\n",
        "n_sum = 0\n",
        "n_count = 0\n",
        "while n > 0 :\n",
        "  n_sum += n % 10\n",
        "  n_count += 1\n",
        "  n = n//10\n",
        "print(f\"Сумма цифр: {n_sum}, количество цифр: {n_count}\" )\n",
        "\n"
      ],
      "metadata": {
        "colab": {
          "base_uri": "https://localhost:8080/"
        },
        "id": "OIzvYQ1FTLU3",
        "outputId": "fecc52b7-1907-4495-d4c9-7a0fdaa1248f"
      },
      "execution_count": null,
      "outputs": [
        {
          "output_type": "stream",
          "name": "stdout",
          "text": [
            "Введите значение: 12345\n",
            "Сумма цифр: 15, количество цифр: 5\n"
          ]
        }
      ]
    },
    {
      "cell_type": "markdown",
      "source": [
        "**11. Вывести в строку 10 первых натуральных чисел, оканчивающихся на цифру k,\n",
        "кратных числу s и находящихся в интервале, левая граница которого равна start**"
      ],
      "metadata": {
        "id": "oEuiJfPOVU8A"
      }
    },
    {
      "cell_type": "code",
      "source": [
        "\n",
        "# Выполнил: Воробьева Екатерина Романовна\n",
        "# Группа: АБП - 231\n",
        "# E-mail: kw849667@gmail.com\n",
        "\n",
        "start = int(input(\"Введите стартовое значение: \"))\n",
        "k = int(input(\"Введите конечное значение: \"))\n",
        "s = int(input(\"Введите значение делителя: \"))\n",
        "n_count = 0\n",
        "c = 1\n",
        "res = []\n",
        "while n_count < 10:\n",
        "    if c % s == 0 and c % 10 == k and c > start:\n",
        "      res.append(str(c))\n",
        "      n_count += 1\n",
        "    c += 1\n",
        "print(\" \".join(res))\n"
      ],
      "metadata": {
        "colab": {
          "base_uri": "https://localhost:8080/"
        },
        "id": "r8ZpSAypVVMT",
        "outputId": "5c153c62-bc54-4741-f3c1-50995ff45d0b"
      },
      "execution_count": null,
      "outputs": [
        {
          "output_type": "stream",
          "name": "stdout",
          "text": [
            "Введите стартовое значение: 100\n",
            "Введите конечное значение: 7\n",
            "Введите значение делителя: 9\n",
            "117 207 297 387 477 567 657 747 837 927\n"
          ]
        }
      ]
    },
    {
      "cell_type": "markdown",
      "source": [
        "**12. Даны целые числа a и b (a может быть больше b). Напечатайте:\n",
        "1.числа от минимального до максимального в строчку (разделяя пробелом);\n",
        "2.числа от максимального до минимального «столбиком».**"
      ],
      "metadata": {
        "id": "BD5wOfuReP7G"
      }
    },
    {
      "cell_type": "code",
      "source": [
        "# Выполнил: Воробьева Екатерина Романовна\n",
        "# Группа: АБП - 231\n",
        "# E-mail: kw849667@gmail.com\n",
        "\n",
        "\n",
        "a = int(input(\"Введите значение a: \"))\n",
        "b = int(input(\"Введите значение b: \"))\n",
        "mx = max(a,b)\n",
        "mn = min(a,b)\n",
        "s = []\n",
        "o =[]\n",
        "for i in range(mn, mx+1, 1):\n",
        "  s.append(str(i))\n",
        "print(\" \".join(s))\n",
        "\n",
        "for i in range(mx, mn-1, -1):\n",
        "  print(i)\n"
      ],
      "metadata": {
        "colab": {
          "base_uri": "https://localhost:8080/"
        },
        "id": "QoddnT5EeblO",
        "outputId": "5e8eaaf4-f44d-4c8e-b793-9ea8b665e63f"
      },
      "execution_count": null,
      "outputs": [
        {
          "output_type": "stream",
          "name": "stdout",
          "text": [
            "Введите значение a: 5\n",
            "Введите значение b: 1\n",
            "1 2 3 4 5\n",
            "5\n",
            "4\n",
            "3\n",
            "2\n",
            "1\n"
          ]
        }
      ]
    },
    {
      "cell_type": "markdown",
      "source": [
        "**13. Для введенных с клавиатуры положительных целых чисел a и b (a≤b) определите:\n",
        "1.сумму всех целых чисел от a до b;\n",
        "2.произведение всех целых чисел от a до b;\n",
        "3.среднее арифметическое всех целых чисел от a до b;\n",
        "4.среднее геометрическое нечетных чисел от a до b.\n",
        "Отрезок поиска включает сами числа a и b. При выводе вещественных результатов\n",
        "оставьте два знака после запятой.**"
      ],
      "metadata": {
        "id": "oCRH0_Ch_FaG"
      }
    },
    {
      "cell_type": "code",
      "source": [
        "# Выполнил: Воробьева Екатерина Романовна\n",
        "# Группа: АБП - 231\n",
        "# E-mail: kw849667@gmail.com\n",
        "\n",
        "import numpy as np\n",
        "\n",
        "a = int(input(\"Введите значение a: \"))\n",
        "b = int(input(\"Введите значение b: \"))\n",
        "s = 0\n",
        "p = 1\n",
        "spis = []\n",
        "for i in range(a, b+1):\n",
        "  s += i\n",
        "  p *= i\n",
        "  spis.append(i)\n",
        "\n",
        "sr = round(np.mean(spis),2)\n",
        "g =  round(np.power(np.prod(spis[0::2]), 1/len(spis[0::2])),2)\n",
        "print(\"Сумма = \" , s)\n",
        "print(\"Произведение = \", p)\n",
        "print(\"Среднее арифметическое = \" , sr)\n",
        "print(\"Среднее геометрическое = \", g)"
      ],
      "metadata": {
        "colab": {
          "base_uri": "https://localhost:8080/"
        },
        "id": "-x850cpk_Fnb",
        "outputId": "6b308fd5-7dae-497c-90eb-f31a2640f8f1"
      },
      "execution_count": 6,
      "outputs": [
        {
          "output_type": "stream",
          "name": "stdout",
          "text": [
            "Введите значение a: 1\n",
            "Введите значение b: 5\n",
            "Сумма =  15\n",
            "Произведение =  120\n",
            "Среднее арифметическое =  3.0\n",
            "Среднее геометрическое =  2.47\n"
          ]
        }
      ]
    },
    {
      "cell_type": "markdown",
      "source": [
        "**14. Начав тренировки, лыжник в первый день пробежал s км. (s>0, вещественное\n",
        "число). Каждый следующий день он увеличивал пробег на p % (0<p≤100,\n",
        "вещественное число) от пробега предыдущего дня. Определите:\n",
        "1.пробег лыжника за второй, третий, …, десятый день тренировок;\n",
        "2.какой суммарный путь он пробежал за первые 10 дней тренировок.\n",
        "При выводе вещественных результатов оставьте один знак после запятой.**"
      ],
      "metadata": {
        "id": "4ztGDUbPPbNt"
      }
    },
    {
      "cell_type": "code",
      "source": [
        "# Выполнил: Воробьева Екатерина Романовна\n",
        "# Группа: АБП - 231\n",
        "# E-mail: kw849667@gmail.com\n",
        "\n",
        "s = float(input(\"Пробег за 1-й день (км.) = \"))\n",
        "p = float(input(\"На сколько увеличивает пробег (%) = \"))\n",
        "total = s\n",
        "\n",
        "for i in range(2,11):\n",
        "\n",
        "  s *= (p / 100) + 1\n",
        "  print(f\"Пробег за {i}-й день: {round(s,1)}\")\n",
        "  total += s\n",
        "\n",
        "print(f\"Суммарный пробег: {round(total,1)}\")"
      ],
      "metadata": {
        "colab": {
          "base_uri": "https://localhost:8080/"
        },
        "id": "SoM7MLSYPa0D",
        "outputId": "868aa8a3-952c-4ee5-9262-377edc5f72d7"
      },
      "execution_count": null,
      "outputs": [
        {
          "output_type": "stream",
          "name": "stdout",
          "text": [
            "Пробег за 1-й день (км.) = 5\n",
            "На сколько увеличивает пробег (%) = 10\n",
            "Пробег за 2-й день: 5.5\n",
            "Пробег за 3-й день: 6.1\n",
            "Пробег за 4-й день: 6.7\n",
            "Пробег за 5-й день: 7.3\n",
            "Пробег за 6-й день: 8.1\n",
            "Пробег за 7-й день: 8.9\n",
            "Пробег за 8-й день: 9.7\n",
            "Пробег за 9-й день: 10.7\n",
            "Пробег за 10-й день: 11.8\n",
            "Суммарный пробег: 79.7\n"
          ]
        }
      ]
    },
    {
      "cell_type": "markdown",
      "source": [
        "**15. Известна масса каждого предмета в кг., загружаемого в грузовик. Определить,\n",
        "возможна ли перевозка груза, если грузоподъемность грузовика равна p кг**"
      ],
      "metadata": {
        "id": "UUz52A0yVDcs"
      }
    },
    {
      "cell_type": "code",
      "source": [
        "# Выполнил: Воробьева Екатерина Романовна\n",
        "# Группа: АБП - 231\n",
        "# E-mail: kw849667@gmail.com\n",
        "\n",
        "p = int(input(\"Введите грузоподъемность грузовика: \"))\n",
        "n = int(input(\"Введите количество предметов: \"))\n",
        "total = 0\n",
        "for i in range(1,n+1):\n",
        "   m = int(input(f\"Введите вес {i} предмета: \"))\n",
        "   total += m\n",
        "if total > p:\n",
        "  print(\"Нет\")\n",
        "else:\n",
        "  print(\"Да\")"
      ],
      "metadata": {
        "colab": {
          "base_uri": "https://localhost:8080/"
        },
        "id": "qMcXerEsS8uf",
        "outputId": "b286d1ba-73c7-429c-9a32-99dd70d55b08"
      },
      "execution_count": null,
      "outputs": [
        {
          "output_type": "stream",
          "name": "stdout",
          "text": [
            "Введите грузоподъемность грузовика: 4\n",
            "Введите количество предметов: 2\n",
            "Введите вес 1 предмета: 1\n",
            "Введите вес 2 предмета: 1\n",
            "Да\n"
          ]
        }
      ]
    },
    {
      "cell_type": "markdown",
      "source": [
        "**16. В области несколько районов. Заданы площади, засеваемые пшеницей (га.), и\n",
        "средняя урожайность (ц/га) в каждом районе.\n",
        "Определите количество пшеницы, собранное по области. При выводе\n",
        "вещественных результатов оставьте один знак после запятой**"
      ],
      "metadata": {
        "id": "9voRmiUi0sh6"
      }
    },
    {
      "cell_type": "code",
      "source": [
        "# Выполнил: Воробьева Екатерина Романовна\n",
        "# Группа: АБП - 231\n",
        "# E-mail: kw849667@gmail.com\n",
        "\n",
        "n = int(input(\"Введите количество районов: \"))\n",
        "total = 0\n",
        "for i in range(1, n + 1):\n",
        "  p = int(input(f\"Введите количество полей {i}-го района: \"))\n",
        "  s = int(input(f\"Введите среднюю урожаемость {i}-го района: \"))\n",
        "  c = p * s\n",
        "  total += c\n",
        "print(f\"Собрано пшеницы: {round(total,1)}\")"
      ],
      "metadata": {
        "colab": {
          "base_uri": "https://localhost:8080/"
        },
        "id": "6ot1VQBm0sVv",
        "outputId": "2808c5e7-b62b-4d37-837b-f8d354854bcc"
      },
      "execution_count": 7,
      "outputs": [
        {
          "output_type": "stream",
          "name": "stdout",
          "text": [
            "Введите количество районов: 3\n",
            "Введите количество полей 1-го района: 4\n",
            "Введите среднюю урожаемость 1-го района: 7\n",
            "Введите количество полей 2-го района: 2\n",
            "Введите среднюю урожаемость 2-го района: 9\n",
            "Введите количество полей 3-го района: 4\n",
            "Введите среднюю урожаемость 3-го района: 2\n",
            "Собрано пшеницы: 54\n"
          ]
        }
      ]
    },
    {
      "cell_type": "markdown",
      "source": [
        "**17. Решите задачу № 2.7, организовав бесконечный цикл, который бы прерывался при\n",
        "выполнении условия, используя оператор break**"
      ],
      "metadata": {
        "id": "4vXX4DdiJ9Wt"
      }
    },
    {
      "cell_type": "code",
      "source": [
        "# Выполнил: Воробьева Екатерина Романовна\n",
        "# Группа: АБП - 231\n",
        "# E-mail: kw849667@gmail.com\n",
        "\n",
        "total_sum = count = 0\n",
        "\n",
        "while True:\n",
        "    num = int(input(\"Введите число: \"))\n",
        "    if num == 0:\n",
        "        break\n",
        "    total_sum += num\n",
        "    count += 1\n",
        "\n",
        "print(f\"Количество: {count}, Сумма: {total_sum}\")"
      ],
      "metadata": {
        "colab": {
          "base_uri": "https://localhost:8080/"
        },
        "id": "wavufLZ7J-FK",
        "outputId": "e55d422d-c206-4a89-b231-ca7b089e9304"
      },
      "execution_count": 13,
      "outputs": [
        {
          "output_type": "stream",
          "name": "stdout",
          "text": [
            "Введите число: 1\n",
            "Введите число: 2\n",
            "Введите число: 3\n",
            "Введите число: 4\n",
            "Введите число: 0\n",
            "Количество: 4, Сумма: 10\n"
          ]
        }
      ]
    },
    {
      "cell_type": "markdown",
      "source": [
        "**18. Предложение, введенное с клавиатуры, содержит слова из гласных и согласных\n",
        "букв кириллицы (регистр может быть различный), а также пробелы.\n",
        "Определите количество гласных и согласных букв в предложении. Для пропуска\n",
        "пробелов используйте оператор continue**"
      ],
      "metadata": {
        "id": "1JgKcn4lPTIt"
      }
    },
    {
      "cell_type": "code",
      "source": [
        "# Выполнил: Воробьева Екатерина Романовна\n",
        "# Группа: АБП - 231\n",
        "# E-mail: kw849667@gmail.com\n",
        "\n",
        "s = str(input(\"Введите предложение: \"))\n",
        "low_reg = s.lower()\n",
        "count_gl = 0\n",
        "count_sogl = 0\n",
        "\n",
        "for i in low_reg:\n",
        "  if i in 'аеёиоуыэюя':\n",
        "    count_gl += 1\n",
        "  elif i == \" \":\n",
        "    continue\n",
        "  else:\n",
        "    count_sogl += 1\n",
        "print(f\"Количество гласных: {count_gl}, Количество согласных: {count_sogl}\")\n"
      ],
      "metadata": {
        "colab": {
          "base_uri": "https://localhost:8080/"
        },
        "id": "l2tw-ehvPTa_",
        "outputId": "b190f2d5-cd55-4b08-dccb-d1e7b848b8f3"
      },
      "execution_count": null,
      "outputs": [
        {
          "output_type": "stream",
          "name": "stdout",
          "text": [
            "Введите предложение: программирование\n",
            "Количество гласных: 7, Количество согласных: 9\n"
          ]
        }
      ]
    },
    {
      "cell_type": "markdown",
      "source": [
        "**19. Выведите на экран (в строку) все целые числа от a до b, кратные некоторому\n",
        "числу c**"
      ],
      "metadata": {
        "id": "2FqTQJF_VW2B"
      }
    },
    {
      "cell_type": "code",
      "source": [
        "# Выполнил: Воробьева Екатерина Романовна\n",
        "# Группа: АБП - 231\n",
        "# E-mail: kw849667@gmail.com\n",
        "\n",
        "a = int(input(\"Введите число начала: \"))\n",
        "b = int(input(\"Введите число конца: \"))\n",
        "c = int(input(\"Введите число-делитель: \"))\n",
        "d = []\n",
        "for i in range(a, b + 1):\n",
        "  if i % c == 0:\n",
        "    d.append(str(i))\n",
        "    i += 1\n",
        "print(\" \".join(d))"
      ],
      "metadata": {
        "colab": {
          "base_uri": "https://localhost:8080/"
        },
        "id": "TMTxnttfVWYb",
        "outputId": "183a6c54-3986-4865-f50e-5441196dbd91"
      },
      "execution_count": null,
      "outputs": [
        {
          "output_type": "stream",
          "name": "stdout",
          "text": [
            "Введите число начала: 1\n",
            "Введите число конца: 10\n",
            "Введите число-делитель: 2\n",
            "2 4 6 8 10\n"
          ]
        }
      ]
    },
    {
      "cell_type": "markdown",
      "source": [
        "**20. Выведите на экран (в строку) все трехзначные натуральные числа, сумма цифр\n",
        "которых равна целому числу n (0<n≤27).**"
      ],
      "metadata": {
        "id": "rY9PS13BcA3d"
      }
    },
    {
      "cell_type": "code",
      "source": [
        "# Выполнил: Воробьева Екатерина Романовна\n",
        "# Группа: АБП - 231\n",
        "# E-mail: kw849667@gmail.com\n",
        "\n",
        "n = int(input(\"Введите число: \"))\n",
        "s = []\n",
        "for i in range(100,1000):\n",
        "  с_3 = i % 10\n",
        "  с_2 = (i // 10) % 10\n",
        "  c_1 = i // 100\n",
        "  if с_3 + с_2 + c_1 == n:\n",
        "    s.append(str(i))\n",
        "print(\" \".join(s))"
      ],
      "metadata": {
        "colab": {
          "base_uri": "https://localhost:8080/"
        },
        "id": "TsZa-CwvcA82",
        "outputId": "b05f9977-2ec4-4f9a-a6c7-d95ff3804ad8"
      },
      "execution_count": null,
      "outputs": [
        {
          "output_type": "stream",
          "name": "stdout",
          "text": [
            "Введите число: 3\n",
            "102 111 120 201 210 300\n"
          ]
        }
      ]
    },
    {
      "cell_type": "markdown",
      "source": [
        "**21. Известно количество учеников в классе и их рост (см.); рост мальчиков условно\n",
        "задан отрицательными числами. Определите средний рост мальчиков и средний\n",
        "рост девочек.\n",
        "При выводе вещественных результатов оставьте один знак после запятой.**"
      ],
      "metadata": {
        "id": "ncQTHAubf1Vm"
      }
    },
    {
      "cell_type": "code",
      "source": [
        "# Выполнил: Воробьева Екатерина Романовна\n",
        "# Группа: АБП - 231\n",
        "# E-mail: kw849667@gmail.com\n",
        "\n",
        "n = int(input(\"Введите количество учеников: \"))\n",
        "\n",
        "r_sr_m = 0.0\n",
        "r_sr_d = 0.0\n",
        "kol_m = 0\n",
        "kol_d = 0\n",
        "for i in range(1, n +1):\n",
        "  k = float(input((f\"Введите рост {i} ученика: \")))\n",
        "  if k < 0:\n",
        "    r_sr_m += k\n",
        "    kol_m += 1\n",
        "  else:\n",
        "    r_sr_d += k\n",
        "    kol_d += 1\n",
        "  i += 1\n",
        "sr_m = (r_sr_m / kol_m) * (-1)\n",
        "sr_d = r_sr_d / kol_d\n",
        "\n",
        "print(\"Средний рост мальчиков: {:.1f}\".format(sr_m))\n",
        "print(\"Средний рост девочек: {:.1f}\".format(sr_d))\n"
      ],
      "metadata": {
        "colab": {
          "base_uri": "https://localhost:8080/"
        },
        "id": "LfW4hk5Yf1bU",
        "outputId": "11f899ef-a70c-4d8f-ea5a-c9cca62f4c6c"
      },
      "execution_count": null,
      "outputs": [
        {
          "output_type": "stream",
          "name": "stdout",
          "text": [
            "Введите количество: 5\n",
            "Введите рост 1 ученика: 150\n",
            "Введите рост 2 ученика: -150\n",
            "Введите рост 3 ученика: 160\n",
            "Введите рост 4 ученика: 170\n",
            "Введите рост 5 ученика: 180\n",
            "Средний рост мальчиков: 150.0\n",
            "Средний рост девочек: 165.0\n"
          ]
        }
      ]
    },
    {
      "cell_type": "markdown",
      "source": [
        "**22. Даны n вещественных чисел. Определите максимальное и минимальное из них.\n",
        "При выводе вещественных результатов оставьте два знака после запятой.**"
      ],
      "metadata": {
        "id": "gictQcYWM2Cw"
      }
    },
    {
      "cell_type": "code",
      "source": [
        "# Выполнил: Воробьева Екатерина Романовна\n",
        "# Группа: АБП - 231\n",
        "# E-mail: kw849667@gmail.com\n",
        "\n",
        "n = int(input(\"Введите количество чисел: \"))\n",
        "s = []\n",
        "for i in range(1, n+1):\n",
        "   k = float(input(f\"Введите {i} число: \"))\n",
        "   s.append(k)\n",
        "   i += 1\n",
        "mx = max(s)\n",
        "mn = min(s)\n",
        "print(f\"Максимум: {mx}, минимум: {mn}\")"
      ],
      "metadata": {
        "colab": {
          "base_uri": "https://localhost:8080/"
        },
        "id": "Z9mrFUAQM2OQ",
        "outputId": "576dd289-247d-49f8-e6b4-49661900419e"
      },
      "execution_count": null,
      "outputs": [
        {
          "output_type": "stream",
          "name": "stdout",
          "text": [
            "Введите количество чисел: 3\n",
            "Введите 1 число: 4.2\n",
            "Введите 2 число: 3.5\n",
            "Введите 3 число: 8.1\n",
            "Максимум: 8.1, минимум: 3.5\n"
          ]
        }
      ]
    },
    {
      "cell_type": "markdown",
      "source": [
        "**23. Дано натуральное число n. Определите, является ли оно\n",
        "членом последовательности Фибоначчи**"
      ],
      "metadata": {
        "id": "tCh05afYRGyL"
      }
    },
    {
      "cell_type": "code",
      "source": [
        "# Выполнил: Воробьева Екатерина Романовна\n",
        "# Группа: АБП - 231\n",
        "# E-mail: kw849667@gmail.com\n",
        "\n",
        "n = int(input(\"Введите число: \"))\n",
        "a = 0\n",
        "b = 1\n",
        "if n < 0:\n",
        "  print (\"Нет\")\n",
        "elif n == 0 or n == 1:\n",
        "  print (\"Да\")\n",
        "else:\n",
        "  while b < n:\n",
        "    c = a + b\n",
        "    a = b\n",
        "    b = c\n",
        "  if b == n:\n",
        "    print (\"Является\")\n",
        "  else:\n",
        "    print (\"Не является\")"
      ],
      "metadata": {
        "colab": {
          "base_uri": "https://localhost:8080/"
        },
        "id": "gtdUWVZBRG9J",
        "outputId": "c92da5f4-c5a7-4bb9-b910-08293c7964ba"
      },
      "execution_count": null,
      "outputs": [
        {
          "output_type": "stream",
          "name": "stdout",
          "text": [
            "Введите число: 21\n",
            "Является\n"
          ]
        }
      ]
    },
    {
      "cell_type": "markdown",
      "source": [
        "**24. Дано n вещественных чисел. Определите, является ли последовательность\n",
        "упорядоченной по возрастанию. В случае отрицательного ответа выведите\n",
        "порядковый номер числа, нарушающего такую упорядоченность.**"
      ],
      "metadata": {
        "id": "fPvphwVeYZnE"
      }
    },
    {
      "cell_type": "code",
      "source": [
        "# Выполнил: Воробьева Екатерина Романовна\n",
        "# Группа: АБП - 231\n",
        "# E-mail: kw849667@gmail.com\n",
        "\n",
        "n = int(input(\"Введите количество чисел: \"))\n",
        "\n",
        "index = -1\n",
        "s = []\n",
        "for i in range(1, n + 1):\n",
        "    num = float(input(f\"Введите {i} число = \"))\n",
        "    s.append(num)\n",
        "\n",
        "\n",
        "for j in range(0, n - 1):\n",
        "    if s[j] >= s[j + 1]:\n",
        "        index = j + 2\n",
        "        break\n",
        "\n",
        "if index == -1:\n",
        "    print(\"Последовательность упорядочена по возрастанию\")\n",
        "else:\n",
        "    print(f\"Не является упорядоченной, порядковый номер числа: {index}\")"
      ],
      "metadata": {
        "colab": {
          "base_uri": "https://localhost:8080/"
        },
        "id": "tR9Ch7kgYZ6p",
        "outputId": "21c4a13a-3d4f-4810-e340-9c683e8ee8ca"
      },
      "execution_count": null,
      "outputs": [
        {
          "output_type": "stream",
          "name": "stdout",
          "text": [
            "Введите количество чисел: 5\n",
            "Введите 1 число = 2\n",
            "Введите 2 число = 1\n",
            "Введите 3 число = 3\n",
            "Введите 4 число = 4\n",
            "Введите 5 число = 5\n",
            "Не является упорядоченной, порядковый номер числа: 2\n"
          ]
        }
      ]
    },
    {
      "cell_type": "markdown",
      "source": [
        "**25. Выведите на экран таблицу умножения на n (2<n≤9) в виде:**"
      ],
      "metadata": {
        "id": "4gqrZjWjpWf6"
      }
    },
    {
      "cell_type": "code",
      "source": [
        "# Выполнил: Воробьева Екатерина Романовна\n",
        "# Группа: АБП - 231\n",
        "# E-mail: kw849667@gmail.com\n",
        "\n",
        "n = int(input(\"Введите число n: \"))\n",
        "if n <= 2 or n > 9:\n",
        "    print(\"n должно быть в диапазоне 2 < n ≤ 9\")\n",
        "else:\n",
        "    for i in range(1, n+1):\n",
        "        for j in range(1, n+1):\n",
        "            print(f\"{i} × {j} = {i*j:2}\", end=\"   \")\n",
        "        print()"
      ],
      "metadata": {
        "colab": {
          "base_uri": "https://localhost:8080/"
        },
        "id": "TJXIezMBR1rf",
        "outputId": "768f6e11-bc18-48fe-d723-38b9b5b75a81"
      },
      "execution_count": null,
      "outputs": [
        {
          "output_type": "stream",
          "name": "stdout",
          "text": [
            "Введите число n (2 < n ≤ 9): 4\n",
            "1 × 1 =  1   1 × 2 =  2   1 × 3 =  3   1 × 4 =  4   \n",
            "2 × 1 =  2   2 × 2 =  4   2 × 3 =  6   2 × 4 =  8   \n",
            "3 × 1 =  3   3 × 2 =  6   3 × 3 =  9   3 × 4 = 12   \n",
            "4 × 1 =  4   4 × 2 =  8   4 × 3 = 12   4 × 4 = 16   \n"
          ]
        }
      ]
    },
    {
      "cell_type": "markdown",
      "source": [
        "**26. Выведите графическое изображения делимости чисел от 1\n",
        "до n (значение n вводится с клавиатуры) - в каждой строке напечатайте очередное\n",
        "число и столько символов * , сколько делителей у этого числа.\n",
        "Например, если n=4, на экране должно быть напечатано:**\n",
        "\n",
        "1 *\n",
        "\n",
        "2 **\n",
        "\n",
        "3 **\n",
        "\n",
        "4 ***"
      ],
      "metadata": {
        "id": "J1F3mnhD5ZIz"
      }
    },
    {
      "cell_type": "code",
      "source": [
        "# Выполнил: Воробьева Екатерина Романовна\n",
        "# Группа: АБП - 231\n",
        "# E-mail: kw849667@gmail.com\n",
        "\n",
        "n = int(input(\"Введите количество чисел: \"))\n",
        "for i in range(1, n + 1):\n",
        "  k = 0\n",
        "  for j in range(1, i + 1):\n",
        "    if i % j == 0:\n",
        "      k += 1\n",
        "  print(i , k * \"*\")"
      ],
      "metadata": {
        "colab": {
          "base_uri": "https://localhost:8080/"
        },
        "id": "xOFt-Azq5ZWe",
        "outputId": "7b8951cc-3f10-4eaf-958f-c6ea56e97935"
      },
      "execution_count": null,
      "outputs": [
        {
          "output_type": "stream",
          "name": "stdout",
          "text": [
            "Введите количество чисел: 4\n",
            "1 *\n",
            "2 **\n",
            "3 **\n",
            "4 ***\n"
          ]
        }
      ]
    },
    {
      "cell_type": "markdown",
      "source": [
        "**27. Выведите на экран (в строку) n первых простых чисел.**"
      ],
      "metadata": {
        "id": "nqtwiJAeDAtK"
      }
    },
    {
      "cell_type": "code",
      "source": [
        "# Выполнил: Воробьева Екатерина Романовна\n",
        "# Группа: АБП - 231\n",
        "# E-mail: kw849667@gmail.com\n",
        "\n",
        "n = int(input(\"Введите число: \"))\n",
        "\n",
        "spisok = []\n",
        "a = 2\n",
        "while len(spisok) < n:\n",
        "  deliteli = 0\n",
        "  for i in range(1, a + 1):\n",
        "    if a % i == 0:\n",
        "      deliteli += 1\n",
        "  if deliteli == 2:\n",
        "    spisok.append(str(a))\n",
        "  a += 1\n",
        "print(\" \".join(spisok))"
      ],
      "metadata": {
        "colab": {
          "base_uri": "https://localhost:8080/"
        },
        "id": "efGL9Hkhg9G3",
        "outputId": "f9e789f9-422f-4edf-a050-15bfcb840fa3"
      },
      "execution_count": null,
      "outputs": [
        {
          "output_type": "stream",
          "name": "stdout",
          "text": [
            "Введите число: 10\n",
            "2 3 5 7 11 13 17 19 23 29\n"
          ]
        }
      ]
    },
    {
      "cell_type": "markdown",
      "source": [
        "**28. Составьте программу для нахождения всех натуральных решений\n",
        "уравнения x^2+y^2+z^2=k^2, где x,y,z∈[1,30], а k вводится с клавиатуры.**"
      ],
      "metadata": {
        "id": "msuDBpZPimHD"
      }
    },
    {
      "cell_type": "code",
      "source": [
        "# Выполнил: Воробьева Екатерина Романовна\n",
        "# Группа: АБП - 231\n",
        "# E-mail: kw849667@gmail.com\n",
        "\n",
        "k = int(input(\"Введите значение k: \"))\n",
        "for x in range(1, 31):\n",
        "  for y in range(1, 31):\n",
        "    for z in range(1, 31):\n",
        "      if (x ** 2) + (y ** 2) + (z ** 2) == k ** 2:\n",
        "        print(f\"x = {x}, y = {y}, z = {z}\")\n"
      ],
      "metadata": {
        "colab": {
          "base_uri": "https://localhost:8080/"
        },
        "id": "h9dqwx2wimT-",
        "outputId": "5bd43be5-0cb0-4fb5-e6b7-3fedfb697358"
      },
      "execution_count": null,
      "outputs": [
        {
          "output_type": "stream",
          "name": "stdout",
          "text": [
            "Введите значение k: 30\n",
            "x = 4, y = 10, z = 28\n",
            "x = 4, y = 20, z = 22\n",
            "x = 4, y = 22, z = 20\n",
            "x = 4, y = 28, z = 10\n",
            "x = 10, y = 4, z = 28\n",
            "x = 10, y = 20, z = 20\n",
            "x = 10, y = 28, z = 4\n",
            "x = 20, y = 4, z = 22\n",
            "x = 20, y = 10, z = 20\n",
            "x = 20, y = 20, z = 10\n",
            "x = 20, y = 22, z = 4\n",
            "x = 22, y = 4, z = 20\n",
            "x = 22, y = 20, z = 4\n",
            "x = 28, y = 4, z = 10\n",
            "x = 28, y = 10, z = 4\n"
          ]
        }
      ]
    },
    {
      "cell_type": "markdown",
      "source": [
        "**29. Дан список из n вещественных чисел, введенных с клавиатуры (среди чисел есть\n",
        "по крайней мере одно положительное и отрицательное число).\n",
        "Сформируйте из него 2 списка:\n",
        "1.положительных чисел, используя списковые включения;\n",
        "2.отрицательных чисел, не используя списковые включения.\n",
        "Выведите на экран:\n",
        "1.исходный список;\n",
        "2.получившиеся списки;\n",
        "3.среднее арифметическое первого списка и среднее геометрическое\n",
        "второго списка.\n",
        "При выводе вещественных результатов оставьте два знака после запятой**"
      ],
      "metadata": {
        "id": "23pTZTAOnoLn"
      }
    },
    {
      "cell_type": "code",
      "source": [
        "# Выполнил: Воробьева Екатерина Романовна\n",
        "# Группа: АБП - 231\n",
        "# E-mail: kw849667@gmail.com\n",
        "\n",
        "import numpy as np\n",
        "n = int(input(\"Введите количество чисел: \"))\n",
        "numbers = []\n",
        "for j in range(n):\n",
        "    num = float(input(f\"Введите число {j+1}: \"))\n",
        "    numbers.append(num)\n",
        "\n",
        "polog = [num for num in numbers if num > 0]\n",
        "otr = []\n",
        "for k in numbers:\n",
        "  if k < 0:\n",
        "    otr.append(k)\n",
        "ar = sum(polog) / len(polog)\n",
        "sr = np.prod(otr) ** (1/len(otr))\n",
        "print(f\"Исходный список: {numbers}\")\n",
        "print(f\"ПОложительные числа: {polog}\")\n",
        "print(f\"Отрицательные числа: {otr}\")\n",
        "print(f\"Среднее арифметическое: {round(ar,2)}\")\n",
        "print(f\"Среднее геометрическое: {round(sr,2)}\")"
      ],
      "metadata": {
        "colab": {
          "base_uri": "https://localhost:8080/"
        },
        "id": "mBsaHEAInoV0",
        "outputId": "5799e15b-4d9d-401e-8c79-e725127400a9"
      },
      "execution_count": null,
      "outputs": [
        {
          "output_type": "stream",
          "name": "stdout",
          "text": [
            "Введите количество чисел: 4\n",
            "Введите число 1: 1\n",
            "Введите число 2: 6\n",
            "Введите число 3: -10\n",
            "Введите число 4: -3\n",
            "Исходный список: [1.0, 6.0, -10.0, -3.0]\n",
            "ПОложительные числа: [1.0, 6.0]\n",
            "Отрицательные числа: [-10.0, -3.0]\n",
            "Среднее арифметическое: 3.5\n",
            "Среднее геометрическое: 5.48\n"
          ]
        }
      ]
    },
    {
      "cell_type": "markdown",
      "source": [
        "**30. Дан список целых чисел, введенных с клавиатуры (длина неизвестна). Ответьте на вопросы:\n",
        "1.являются ли все элементы положительными числами?\n",
        "2.есть ли хотя бы один нулевой элемент в списке?\n",
        "3.являются ли все элементы четными числами?\n",
        "4.есть ли хотя бы один нечетный элемент в списке?\n",
        "Каждый из пунктов выполните дважды: используя стандартный проход в цикле\n",
        "(например, через алгоритм с флажком), и используя\n",
        "функции any() и/или all()**"
      ],
      "metadata": {
        "id": "PA_VpqgZyup6"
      }
    },
    {
      "cell_type": "code",
      "source": [
        "# Выполнил: Воробьева Екатерина Романовна\n",
        "# Группа: АБП - 231\n",
        "# E-mail: kw849667@gmail.com\n",
        "\n",
        "n = int(input(\"Введите количество чисел: \"))\n",
        "num = []\n",
        "for i in range(1 , n + 1):\n",
        "  k = int(input(f\"Введите число {i}: \"))\n",
        "  num.append(k)\n",
        "# цикл положительных чисел\n",
        "flag = -1\n",
        "for j in num:\n",
        "  if j < 0:\n",
        "    flag = 1\n",
        "\n",
        "if flag == -1:\n",
        "  print(\"Да, все положительные\")\n",
        "else:\n",
        "  print(\"Нет, есть отрицательные\")\n",
        "\n",
        "\n",
        "p = all(j > 0 for j in num)\n",
        "if p:\n",
        "  print(\"Да, все положительные\")\n",
        "else:\n",
        "  print(\"Нет, есть отрицательные\")\n",
        "\n",
        "# цикл нулевого элемента\n",
        "flag = -1\n",
        "for j in num:\n",
        "  if j == 0:\n",
        "    flag = 1\n",
        "\n",
        "if flag == 1:\n",
        "  print(\"Да, есть ноль\")\n",
        "else:\n",
        "  print(\"Нет, нуля нет\")\n",
        "\n",
        "n = any(j == 0 for j in num)\n",
        "if n:\n",
        "  print(\"Да, есть ноль\")\n",
        "else:\n",
        "  print(\"Нет, нуля нет\")\n",
        "\n",
        "# цикл четности чисел\n",
        "\n",
        "flag = -1\n",
        "for j in num:\n",
        "  if j % 2 ==  0:\n",
        "    flag = 1\n",
        "\n",
        "if flag == -1:\n",
        "  print(\"Да, все четные\")\n",
        "else:\n",
        "  print(\"Нет, есть нечетные\")\n",
        "\n",
        "c = all(j % 2 == 0 for j in num)\n",
        "if c:\n",
        "  print(\"Да, все четные\")\n",
        "else:\n",
        "  print(\"Нет, есть нечетные\")\n",
        "\n",
        "#Поиск нечетного числа\n",
        "\n",
        "flag = -1\n",
        "for j in num:\n",
        "  if j % 2 !=  0:\n",
        "    flag = 1\n",
        "\n",
        "if flag == 1:\n",
        "  print(\"Да, есть нечетное\")\n",
        "else:\n",
        "  print(\"Нет, все четные\")\n",
        "\n",
        "d = any(j % 2 != 0 for j in num)\n",
        "if d:\n",
        "  print(\"Да, есть нечетное\")\n",
        "else:\n",
        "  print(\"Нет, все четные\")\n"
      ],
      "metadata": {
        "id": "kAYMn9Ppyu6s",
        "colab": {
          "base_uri": "https://localhost:8080/"
        },
        "outputId": "4d9108da-3487-451c-d5eb-bfeecd6ae1f8"
      },
      "execution_count": null,
      "outputs": [
        {
          "output_type": "stream",
          "name": "stdout",
          "text": [
            "Введите количество чисел: 4\n",
            "Введите число 1: -1\n",
            "Введите число 2: 1\n",
            "Введите число 3: 0\n",
            "Введите число 4: 100\n",
            "Нет, есть отрицательные\n",
            "Нет, есть отрицательные\n",
            "Да, есть ноль\n",
            "Да, есть 0\n",
            "Нет, есть нечетные\n",
            "Нет, есть нечетные\n",
            "Да, есть нечетное\n",
            "Да, есть нечетное\n"
          ]
        }
      ]
    },
    {
      "cell_type": "markdown",
      "source": [
        "**31. Дано предложение. Выведите его на экран, удалив из него все слова, содержащие\n",
        "произвольную букву (вводится с клавиатуры)**"
      ],
      "metadata": {
        "id": "r8qwE6OjGnWo"
      }
    },
    {
      "cell_type": "code",
      "source": [
        "# Выполнил: Воробьева Екатерина Романовна\n",
        "# Группа: АБП - 231\n",
        "# E-mail: kw849667@gmail.com\n",
        "\n",
        "sentence = input(\"Введите предложение: \")\n",
        "letter = input(\"Введите букву для удаления: \")\n",
        "\n",
        "result = ' '.join([word for word in sentence.split() if letter.lower() not in word.lower()])\n",
        "\n",
        "print(\"Результат:\", result)"
      ],
      "metadata": {
        "colab": {
          "base_uri": "https://localhost:8080/"
        },
        "id": "SM4vaYZbGnpO",
        "outputId": "0a3b0018-c580-40b7-c751-cd4ebcb0db28"
      },
      "execution_count": 14,
      "outputs": [
        {
          "output_type": "stream",
          "name": "stdout",
          "text": [
            "Введите предложение: шла Саша по шоссе и сосала сушку\n",
            "Введите букву для удаления: л\n",
            "Результат: Саша по шоссе и сушку\n"
          ]
        }
      ]
    },
    {
      "cell_type": "markdown",
      "source": [
        "**32. В зрительном зале кинотеатра n рядов, количество мест в которых может меняться.\n",
        "Разработчик смоделировал занятость мест как двумерный массив (список из\n",
        "списков), где каждый вложенный список содержит информацию о проданных\n",
        "местах в соответствующем ряду (1 - занято, 0 - свободно):\n",
        "[\n",
        " [0, 0, 1], # 1 ряд, первые 2 места свободны\n",
        " [1, 1, 1, 1], # 2 ряд, все места заняты\n",
        "...\n",
        "]\n",
        "Напишите программу, которая позволит пользователю увидеть количество\n",
        "свободных мест, а также, введя номер ряда и места, получить информацию -\n",
        "свободно оно или нет. Данные о занятости мест вводятся с клавиатуры (набор из 0\n",
        "и 1 для каждого ряда).**"
      ],
      "metadata": {
        "id": "CYb1E2ZILKea"
      }
    },
    {
      "cell_type": "code",
      "source": [
        "# Выполнил: Воробьева Екатерина Романовна\n",
        "# Группа: АБП - 231\n",
        "# E-mail: kw849667@gmail.com\n",
        "\n",
        "n = int(input('Количество рядов = '))\n",
        "\n",
        "seats = []\n",
        "for i in range(n):\n",
        "    row = [int(item) for item in input().split()]\n",
        "    seats.append(row)\n",
        "\n",
        "\n",
        "n_p, m_p = [int(item) for item in input(\"Введите ряд и место через пробел: \").split()]\n",
        "\n",
        "row_index = n_p - 1\n",
        "seat_index = m_p - 1\n",
        "\n",
        "\n",
        "if row_index < 0 or row_index >= len(seats):\n",
        "    print(\"Такого ряда не существует\")\n",
        "elif seat_index < 0 or seat_index >= len(seats[row_index]):\n",
        "    print(\"Такого места не существует\")\n",
        "else:\n",
        "    is_free = seats[row_index][seat_index] == 0\n",
        "    print(f\"Место свободно: {is_free}\")\n",
        ""
      ],
      "metadata": {
        "id": "c6ZZA88tLKsT",
        "colab": {
          "base_uri": "https://localhost:8080/"
        },
        "outputId": "d39abd40-332e-44ad-97a7-59cb0a407e6d"
      },
      "execution_count": 18,
      "outputs": [
        {
          "output_type": "stream",
          "name": "stdout",
          "text": [
            "Количество рядов = 2\n",
            "11111\n",
            "11011\n",
            "Введите ряд и место через пробел: 1 1\n",
            "Место свободно: False\n"
          ]
        }
      ]
    },
    {
      "cell_type": "markdown",
      "source": [
        "**33. Вводится список из n сотрудников в указанном формате. Далее: определите самого «молодого» и самого «старого» сотрудника, используя\n",
        "функцию sorted() ; сформируйте 2 отельных списка: мужчин и женщин и ответьте, в каком из списков больше имен, начинающихся на букву k (вводится с клавиатуры).**\n"
      ],
      "metadata": {
        "id": "c3npICmg91S4"
      }
    },
    {
      "cell_type": "code",
      "source": [
        "# Выполнил: Воробьева Екатерина Романовна\n",
        "# Группа: АБП - 231\n",
        "# E-mail: kw849667@gmail.com\n",
        "\n",
        "n = int(input('n = '))\n",
        "\n",
        "employees = []\n",
        "\n",
        "for i in range(n):\n",
        "  data = input().split()\n",
        "  data[4] = int(data[4])\n",
        "  employees.append(data)\n",
        "\n",
        "sort = sorted(employees, key=lambda x: x[4])\n",
        "\n",
        "employee_min = sort[0]\n",
        "employee_max = sort[-1]\n",
        "print(\"Cамый \\\"молодой\\\": {}\".format(\" \".join(employee_min[:3])))\n",
        "print(\"Cамый \\\"старый\\\": {}\".format(\" \".join(employee_max[:3])))\n",
        "\n",
        "\n",
        "men = [emp for emp in employees if emp[3] == \"М\"]\n",
        "women = [emp for emp in employees if emp[3] == \"Ж\"]\n",
        "\n",
        "k = input(\"Введите букву начала имени = \").upper()\n",
        "\n",
        "men_k_count = 0\n",
        "for man in men:\n",
        "    if man[1][0].upper() == k:\n",
        "        men_k_count += 1\n",
        "\n",
        "women_k_count = 0\n",
        "for woman in women:\n",
        "    if woman[1][0].upper() == k:\n",
        "        women_k_count += 1\n",
        "\n",
        "if men_k_count > women_k_count:\n",
        "    print(\"У мужчин таких имен больше\")\n",
        "elif women_k_count > men_k_count:\n",
        "    print(\"У женщин таких имен больше\")\n",
        "else:\n",
        "    print(\"Количество таких имен одинаково\")"
      ],
      "metadata": {
        "colab": {
          "base_uri": "https://localhost:8080/"
        },
        "id": "E8zNQdZA91mm",
        "outputId": "e6d7dea5-ee75-4cea-81dc-b11b393efd41"
      },
      "execution_count": 20,
      "outputs": [
        {
          "output_type": "stream",
          "name": "stdout",
          "text": [
            "n = 3\n",
            "Петрова Анна Алексеевна Ж 5\n",
            "Семенов Николай Михайлович М 2\n",
            "Михайлов Игорь Васильевич М 3\n",
            "Cамый \"молодой\": Семенов Николай Михайлович\n",
            "Cамый \"старый\": Петрова Анна Алексеевна\n",
            "Введите букву начала имени = а\n",
            "У женщин таких имен больше\n"
          ]
        }
      ]
    },
    {
      "cell_type": "markdown",
      "source": [
        "**34. Вводится список из n годовых вкладов, предлагаемых банками, в указанном формате. Далее определите (гарантируется, что искомый банк - один): самый доступный банк (с наименьшей первоначальной суммой); самый выгодный банк, принимая, что за год прибыль = сумма * процент / 100 . При выводе финансовых значений оставьте два знака после запятой**"
      ],
      "metadata": {
        "id": "zIMy8JAZ_cy6"
      }
    },
    {
      "cell_type": "code",
      "source": [
        "# Выполнил: Воробьева Екатерина Романовна\n",
        "# Группа: АБП - 231\n",
        "# E-mail: kw849667@gmail.com\n",
        "\n",
        "n = int(input(\"Количество банков = \"))\n",
        "\n",
        "deposits = []\n",
        "for i in range(n):\n",
        "    data = input().split()\n",
        "    bank_dict = {\n",
        "        \"name\": data[0],\n",
        "        \"initial_sum\": int(data[1]),\n",
        "        \"rate\": float(data[2])}\n",
        "    deposits.append(bank_dict)\n",
        "\n",
        "# 2. Самый доступный банк (с минимальной первоначальной суммой)\n",
        "min_bank = deposits[0]\n",
        "for bank in deposits:\n",
        "    if bank['initial_sum'] < min_bank['initial_sum']:\n",
        "        min_bank = bank\n",
        "\n",
        "# 3. Самый выгодный банк (с максимальной прибылью)\n",
        "max_profit_bank = deposits[0]\n",
        "max_profit = deposits[0]['initial_sum'] * deposits[0]['rate'] / 100\n",
        "\n",
        "for bank in deposits:\n",
        "    profit = bank['initial_sum'] * bank['rate'] / 100\n",
        "    if profit > max_profit:\n",
        "        max_profit = profit\n",
        "        max_profit_bank = bank\n",
        "\n",
        "print(f\"Самый доступный банк: {min_bank['name']}, первоначальная сумма: {min_bank['initial_sum']:.2f} руб.\")\n",
        "print(f\"Самый выгодный банк: {max_profit_bank['name']}, прибыль: {max_profit:.2f} руб.\")\n"
      ],
      "metadata": {
        "colab": {
          "base_uri": "https://localhost:8080/"
        },
        "id": "wYY9WW3X_c96",
        "outputId": "040591ac-c9a3-4cbd-ab31-2f9fe9615eb2"
      },
      "execution_count": 24,
      "outputs": [
        {
          "output_type": "stream",
          "name": "stdout",
          "text": [
            "Количество банков = 3\n",
            "Сбер 500000 5.2\n",
            "Тинькоф 30000 4.4\n",
            "ВТБ 445000 3.1\n",
            "Самый доступный банк: Тинькоф, первоначальная сумма: 30000.00 руб.\n",
            "Самый выгодный банк: Сбер, прибыль: 26000.00 руб.\n"
          ]
        }
      ]
    }
  ]
}